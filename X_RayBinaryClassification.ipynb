{
  "nbformat": 4,
  "nbformat_minor": 0,
  "metadata": {
    "colab": {
      "provenance": []
    },
    "kernelspec": {
      "name": "python3",
      "display_name": "Python 3"
    },
    "language_info": {
      "name": "python"
    }
  },
  "cells": [
    {
      "cell_type": "code",
      "execution_count": 2,
      "metadata": {
        "id": "LGbCmJTuaF_m"
      },
      "outputs": [],
      "source": [
        "import torch\n",
        "import torch.nn as nn\n",
        "import torch.optim as optim\n",
        "from torchvision import datasets, transforms,models\n",
        "from torch.utils.data import DataLoader\n",
        "import os\n",
        "import kagglehub\n",
        "\n",
        "# Set device\n",
        "device = torch.device(\"cuda\" if torch.cuda.is_available() else \"cpu\")"
      ]
    },
    {
      "cell_type": "code",
      "source": [
        "data_dir =data_dir = \"chest_xray\"\n",
        "\n",
        "train_tranforms=transforms.Compose([\n",
        "    transforms.Resize(299*299),\n",
        "    transforms.RandomRotation(10),\n",
        "    transforms.RandomHorizontalFlip(),\n",
        "    transforms.ColorJitter(brightness=0.2,contrast=0.2),\n",
        "    transforms.ToTensor(),\n",
        "    transforms.Normalize((0.5,0.5,0.5),(0.5,0.5,0.5))\n",
        "])\n",
        "test_transforms=transforms.Compose([\n",
        "    transforms.Resize(299*299),\n",
        "    transforms.ToTensor(),\n",
        "    transforms.Normalize((0.5,0.5,0.5),(0.5,0.5,0.5))\n",
        "])\n",
        "\n",
        "train_data=datasets.ImageFolder(os.path.join(data_dir,\"train\"),transform=train_tranforms)\n",
        "train_loader=DataLoader(train_data,batch_size=32,shuffle=True)\n",
        "\n",
        "\n",
        "test_data=datasets.ImageFolder(os.path.join(data_dir,\"test\"),transform=test_transforms)\n",
        "test_loader=DataLoader(test_data,batch_size=32,shuffle=False)\n"
      ],
      "metadata": {
        "id": "Texp7ckvegoX"
      },
      "execution_count": null,
      "outputs": []
    },
    {
      "cell_type": "code",
      "source": [
        "model=models.inception_v3(pretrained=True)\n",
        "for param in model.parameters\n",
        "  param.requires_grad=False\n",
        "\n",
        "model.fc=nn.Sequential(\n",
        "    nn.Linear(model.fc.in_features,512),\n",
        "    nn.BatchNorm1d(512),\n",
        "    nn.ReLU(),\n",
        "    nn.Dropout(0.5),\n",
        "    nn.Linear(512,2)\n",
        ")\n",
        "\n",
        "model=model.to(device)"
      ],
      "metadata": {
        "id": "v27V6oIvejxN"
      },
      "execution_count": null,
      "outputs": []
    },
    {
      "cell_type": "code",
      "source": [
        "criteria=nn.CrossEntropyLoss()\n",
        "optimizer=optim.Adam(model.fc.parameters(),lr=0.001)"
      ],
      "metadata": {
        "id": "lMwIDJ73foJX"
      },
      "execution_count": null,
      "outputs": []
    },
    {
      "cell_type": "code",
      "source": [
        "num_epochs = 5\n",
        "\n",
        "for epoch in range(num_epochs):\n",
        "    model.train()\n",
        "    running_loss = 0.0\n",
        "\n",
        "    for images,labels in train_loader:\n",
        "      images,labels=images.to(device),labels.to(device)\n",
        "      optimizer.zero_grad()\n",
        "      outputs=model(images)\n",
        "      loss=criteria(outputs,labels)\n",
        "      loss.backward()\n",
        "      optimizer.step()\n",
        "      running_loss+=loss.item()\n",
        "      print(f\"Epoch {epoch+1}, Loss: {running_loss/len(train_loader):.4f}\")"
      ],
      "metadata": {
        "id": "PypO94Dvimyq"
      },
      "execution_count": null,
      "outputs": []
    },
    {
      "cell_type": "code",
      "source": [
        "model.eval()\n",
        "correct=0\n",
        "total=0\n",
        "with torch.no_grad():\n",
        "  for images.labels in test_loader:\n",
        "    images,labels=images.to(device),labels.to(device)\n",
        "    output=model(images)\n",
        "    _, predicted = torch.max(outputs[0].data, 1)  # outputs[0] is main classifier\n",
        "    total += labels.size(0)\n",
        "    correct += (predicted == labels).sum().item()\n",
        "\n",
        "print(f\"Test Accuracy: {100 * correct / total:.2f}%\")"
      ],
      "metadata": {
        "id": "iFlvB67vjMPX"
      },
      "execution_count": null,
      "outputs": []
    }
  ]
}